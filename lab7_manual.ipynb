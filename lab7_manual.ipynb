{
  "nbformat": 4,
  "nbformat_minor": 0,
  "metadata": {
    "colab": {
      "private_outputs": true,
      "provenance": []
    },
    "kernelspec": {
      "name": "python3",
      "display_name": "Python 3"
    },
    "language_info": {
      "name": "python"
    }
  },
  "cells": [
    {
      "cell_type": "code",
      "execution_count": null,
      "metadata": {
        "id": "4IVxpjSnte4-"
      },
      "outputs": [],
      "source": [
        "import pandas as pd# i loaded the data from csv\n",
        "df=pd.read_csv(r'employee_info.csv')\n",
        "df"
      ]
    },
    {
      "cell_type": "code",
      "source": [
        "df.info()#here i can see the datatypes of all columns"
      ],
      "metadata": {
        "id": "A4qZ_5V41_ZK"
      },
      "execution_count": null,
      "outputs": []
    },
    {
      "cell_type": "code",
      "source": [
        "df['employee_id']=df['employee_id'].astype(int)\n",
        "df"
      ],
      "metadata": {
        "id": "2FTdvWXt2Rbm"
      },
      "execution_count": null,
      "outputs": []
    },
    {
      "cell_type": "code",
      "source": [
        "df['working_hours']=df['working_hours'].fillna(0)\n",
        "df\n",
        "df['working_hours']=df['working_hours'].astype(int)\n",
        "df"
      ],
      "metadata": {
        "id": "kK98OaGo3PfT"
      },
      "execution_count": null,
      "outputs": []
    },
    {
      "cell_type": "code",
      "source": [
        "df1=df\n",
        "df['salary']=df.salary.replace('$','',regex=True).replace(',','',regex=True).astype(float)\n",
        "df\n",
        "#using lambda function\n"
      ],
      "metadata": {
        "id": "SgRRGSc44zuu"
      },
      "execution_count": null,
      "outputs": []
    },
    {
      "cell_type": "code",
      "source": [
        "df['salary'] = df.salary.astype(str).apply(lambda x: x.replace('$', '').replace(',', '')).astype(float)\n",
        "df"
      ],
      "metadata": {
        "id": "Fk4ElR_5-v9s"
      },
      "execution_count": null,
      "outputs": []
    },
    {
      "cell_type": "code",
      "source": [
        "df.info()\n",
        "df"
      ],
      "metadata": {
        "id": "a2fL7iKC_dvv"
      },
      "execution_count": null,
      "outputs": []
    },
    {
      "cell_type": "code",
      "source": [
        "df['salary_bonus']=df.salary_bonus.replace('%','',regex=True).astype(float)\n",
        "df['salary_bonus']=df['salary_bonus']/100\n",
        "df"
      ],
      "metadata": {
        "id": "v4_s-y8j_sE_"
      },
      "execution_count": null,
      "outputs": []
    },
    {
      "cell_type": "code",
      "source": [
        "df['data_of_birth']=pd.to_datetime(df['data_of_birth'],errors='coerce')\n",
        "df"
      ],
      "metadata": {
        "id": "q_U3vct_Cj-C"
      },
      "execution_count": null,
      "outputs": []
    },
    {
      "cell_type": "code",
      "source": [
        "import numpy as np\n",
        "df.active=np.where(df.active=='Y',True,False)\n",
        "df\n",
        "df.select_dtypes(include=['int'])\n",
        "df.select_dtypes(exclude=['int'])"
      ],
      "metadata": {
        "id": "mnVZpZfTEFUQ"
      },
      "execution_count": null,
      "outputs": []
    }
  ]
}