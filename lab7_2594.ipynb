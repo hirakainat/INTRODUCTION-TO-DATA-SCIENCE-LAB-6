{
  "nbformat": 4,
  "nbformat_minor": 0,
  "metadata": {
    "colab": {
      "private_outputs": true,
      "provenance": []
    },
    "kernelspec": {
      "name": "python3",
      "display_name": "Python 3"
    },
    "language_info": {
      "name": "python"
    }
  },
  "cells": [
    {
      "cell_type": "code",
      "source": [
        "import pandas as pd\n",
        "def filling_with_mean(df):\n",
        "   numeric_columns=df.select_dtypes(include=['number']).columns\n",
        "   for i in numeric_columns:\n",
        "     mean_filled=df[i].mean()\n",
        "     df[i].fillna(mean_filled,inplace=True)\n",
        "\n",
        "   return df\n",
        "\n",
        "\n",
        "\n",
        "data={'names':['hira','urwa','areeba','faryal','hira','ayesha'],'ages':[20,22,21,None,27,24],'id':[1,2,3,None,5,6]}\n",
        "df=pd.DataFrame(data)\n",
        "print(\"original dataframe\")\n",
        "print(df)\n",
        "filled=filling_with_mean(df)\n",
        "print(filled)"
      ],
      "metadata": {
        "id": "bcbO7oKQE7cb"
      },
      "execution_count": null,
      "outputs": []
    },
    {
      "cell_type": "code",
      "source": [
        "import pandas as pd\n",
        "import numpy as np\n",
        "data = {\n",
        "    'Name': ['Alice', 'Bob', 'Charlie', 'David', 'Eve'],\n",
        "    'Score': [85, np.nan, 90, np.nan, 95],\n",
        "    'Age': [25, 30, np.nan, np.nan, 22]\n",
        "}\n",
        "df = pd.DataFrame(data)\n",
        "print(\"Original DataFrame:\")\n",
        "print(df)\n",
        "df_dropped = df.dropna(subset=['Score', 'Age'])\n",
        "print(\"\\nDataFrame after dropping rows where both 'Score' and 'Age' are NaN:\")\n",
        "print(df_dropped)\n"
      ],
      "metadata": {
        "id": "-Saeu6CVL7ap"
      },
      "execution_count": null,
      "outputs": []
    },
    {
      "cell_type": "code",
      "source": [
        "import pandas as pd\n",
        "import numpy as np\n",
        "data = {\n",
        "    'Name': ['Alice', 'Bob', 'Charlie', 'David', 'Eve'],\n",
        "    'Score': [85, np.nan, 90, np.nan, 95],\n",
        "    'Age': [25, 30, np.nan, np.nan, 22]\n",
        "}\n",
        "df = pd.DataFrame(data)\n",
        "print(\"Original DataFrame:\")\n",
        "print(df)\n",
        "df_dropped = df.dropna(subset=['Score', 'Age'],how='all')\n",
        "print(\"\\nDataFrame after dropping rows where both 'Score' and 'Age' are NaN:\")\n",
        "print(df_dropped)\n"
      ],
      "metadata": {
        "id": "jHaQzk7jUQhg"
      },
      "execution_count": null,
      "outputs": []
    },
    {
      "cell_type": "code",
      "source": [
        "import numpy as np\n",
        "import pandas as pd\n",
        "from scipy import stats\n",
        "data={'names':['hira','urwa','faryal','ayesha','areeba'],'scores':[12,13,14,15,16]}\n",
        "df=pd.DataFrame(data)\n",
        "print(df)\n",
        "df['z_score']=np.abs(stats.zscore(df['scores']))\n",
        "sorted_column=df.sort_values('z_score',ascending=False)\n",
        "identify_top_5_outliers=sorted_column.head(5)\n",
        "print(\"the top 5 outliers are\")\n",
        "print(identify_top_5_outliers)\n",
        "droped_outliers=df.drop(identify_top_5_outliers.index)\n",
        "print(droped_outliers)\n"
      ],
      "metadata": {
        "id": "16LiGACgUhGY"
      },
      "execution_count": null,
      "outputs": []
    },
    {
      "cell_type": "code",
      "source": [
        "import pandas as pd\n",
        "data = {\n",
        "    'names': ['hira', 'urwa', 'faryal', 'ayesha', 'hira', 'urwa'],\n",
        "    'scores': [20, 30, 25, 40, 20, 30]\n",
        "}\n",
        "df = pd.DataFrame(data)\n",
        "print(\"Original DataFrame:\")\n",
        "print(df)\n",
        "df_no_duplicates_last = df.drop_duplicates(keep='last')\n",
        "print(\"\\nDataFrame after removing duplicate rows (keeping last occurrence):\")\n",
        "print(df_no_duplicates_last)"
      ],
      "metadata": {
        "id": "SGFUiwPmgPnI"
      },
      "execution_count": null,
      "outputs": []
    },
    {
      "cell_type": "code",
      "source": [
        "import pandas as pd\n",
        "data = {\n",
        "    'names': ['hira', 'urwa', 'faryal', 'ayesha', 'areeba'],\n",
        "    'birth_dates': ['2000-05-01', '1999-12-15', '2002-03-22', '1998-07-09', '2001-11-30']\n",
        "}\n",
        "df = pd.DataFrame(data)\n",
        "print(\"Original DataFrame:\")\n",
        "print(df)\n",
        "df['birth_dates'] = pd.to_datetime(df['birth_dates'])\n",
        "df['Year'] = df['birth_dates'].dt.year\n",
        "print(\"\\nDataFrame after extracting the year:\")\n",
        "print(df)"
      ],
      "metadata": {
        "id": "CN3FDLn7jWRp"
      },
      "execution_count": null,
      "outputs": []
    },
    {
      "cell_type": "code",
      "source": [
        "import pandas as pd\n",
        "data={'names':['hira','urwa','faryal','ayesha','areeba','maryam','mahnoor'],'scores':['10','20','30','40','50','60','70'],'heights':[4.5,4.6,4.7,4.8,4.9,5.1,4.3]}\n",
        "df=pd.DataFrame(data)\n",
        "print(df)\n",
        "df['scores']=pd.to_numeric(df['scores'],errors='coerce')#string to numeric\n",
        "df['heights']=df['heights'].astype('int')#float to int\n",
        "print(df)"
      ],
      "metadata": {
        "id": "VRQBuaCHl4Kj"
      },
      "execution_count": null,
      "outputs": []
    }
  ]
}